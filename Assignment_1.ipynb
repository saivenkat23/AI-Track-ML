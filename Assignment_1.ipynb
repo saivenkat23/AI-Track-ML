{
  "nbformat": 4,
  "nbformat_minor": 0,
  "metadata": {
    "colab": {
      "name": "Assignment-1.ipynb",
      "provenance": [],
      "authorship_tag": "ABX9TyNTlYkpH2ybAsQ/aryWDaGV"
    },
    "kernelspec": {
      "name": "python3",
      "display_name": "Python 3"
    }
  },
  "cells": [
    {
      "cell_type": "code",
      "metadata": {
        "id": "feBO3tbx9G80",
        "colab_type": "code",
        "colab": {
          "base_uri": "https://localhost:8080/",
          "height": 162
        },
        "outputId": "4631de41-210c-4320-cf30-7494601b968c"
      },
      "source": [
        "from scipy.optimize import linprog\n",
        "obj  = [-50, -120]\n",
        "left = [[10, 30], [7000, 2000], [1, 1]]\n",
        "right = [1200, 700000, 110]\n",
        "bound = [(0, float(\"inf\")), (0, float(\"inf\"))]\n",
        "opt = linprog(c = obj, A_ub = left, b_ub = right, bounds = bound)\n",
        "print(opt)"
      ],
      "execution_count": 2,
      "outputs": [
        {
          "output_type": "stream",
          "text": [
            "     con: array([], dtype=float64)\n",
            "     fun: -5778.947342194284\n",
            " message: 'Optimization terminated successfully.'\n",
            "     nit: 5\n",
            "   slack: array([3.98570933e-06, 6.77887059e-03, 4.73684292e+00])\n",
            "  status: 0\n",
            " success: True\n",
            "       x: array([97.89473581,  7.36842126])\n"
          ],
          "name": "stdout"
        }
      ]
    },
    {
      "cell_type": "markdown",
      "metadata": {
        "id": "3KY23B1i9Vep",
        "colab_type": "text"
      },
      "source": [
        ""
      ]
    },
    {
      "cell_type": "code",
      "metadata": {
        "id": "zcCVIZql9WtQ",
        "colab_type": "code",
        "colab": {
          "base_uri": "https://localhost:8080/",
          "height": 72
        },
        "outputId": "1e535a1c-2347-4372-b801-f7f0bac3ab8f"
      },
      "source": [
        "print(f'For getting Maximum Profit\\nArea for growing Wheat: {opt.x[0]} in hectares\\nArea for growing Barley: {opt.x[1]} in hectares')"
      ],
      "execution_count": 3,
      "outputs": [
        {
          "output_type": "stream",
          "text": [
            "For getting Maximum Profit\n",
            "Area for growing Wheat: 97.89473581371212 in hectares\n",
            "Area for growing Barley: 7.368421262572312 in hectares\n"
          ],
          "name": "stdout"
        }
      ]
    }
  ]
}