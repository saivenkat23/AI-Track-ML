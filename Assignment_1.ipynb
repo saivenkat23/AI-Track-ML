{
  "nbformat": 4,
  "nbformat_minor": 0,
  "metadata": {
    "colab": {
      "name": "Assignment-1.ipynb",
      "provenance": [],
      "collapsed_sections": [],
      "authorship_tag": "ABX9TyPWQuTfF5mO8BFnLsK7m6M5"
    },
    "kernelspec": {
      "name": "python3",
      "display_name": "Python 3"
    }
  },
  "cells": [
    {
      "cell_type": "code",
      "metadata": {
        "id": "feBO3tbx9G80",
        "colab_type": "code",
        "colab": {
          "base_uri": "https://localhost:8080/",
          "height": 162
        },
        "outputId": "39471229-20e2-480c-d485-7924e0015fd3"
      },
      "source": [
        "from scipy.optimize import linprog\n",
        "obj  = [-50, -120]\n",
        "left = [[10, 30], [7000, 2000], [1, 1]]\n",
        "right = [1200, 700000, 110]\n",
        "bound = [(0, float(\"inf\")), (0, float(\"inf\"))]\n",
        "opt = linprog(c = obj, A_ub = left, b_ub = right, bounds = bound)\n",
        "print(opt)"
      ],
      "execution_count": 5,
      "outputs": [
        {
          "output_type": "stream",
          "text": [
            "     con: array([], dtype=float64)\n",
            "     fun: -5778.947342194284\n",
            " message: 'Optimization terminated successfully.'\n",
            "     nit: 5\n",
            "   slack: array([3.98570933e-06, 6.77887059e-03, 4.73684292e+00])\n",
            "  status: 0\n",
            " success: True\n",
            "       x: array([97.89473581,  7.36842126])\n"
          ],
          "name": "stdout"
        }
      ]
    }
  ]
}