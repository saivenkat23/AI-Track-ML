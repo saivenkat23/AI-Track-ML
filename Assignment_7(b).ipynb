{
  "nbformat": 4,
  "nbformat_minor": 0,
  "metadata": {
    "colab": {
      "name": "Assignment_7(b).ipynb",
      "provenance": [],
      "collapsed_sections": [],
      "authorship_tag": "ABX9TyN9zZOdp/rvoW01ZdWYIpO0",
      "include_colab_link": true
    },
    "kernelspec": {
      "name": "python3",
      "display_name": "Python 3"
    }
  },
  "cells": [
    {
      "cell_type": "markdown",
      "metadata": {
        "id": "view-in-github",
        "colab_type": "text"
      },
      "source": [
        "<a href=\"https://colab.research.google.com/github/saivenkat23/AI-Track-ML/blob/master/Assignment_7(b).ipynb\" target=\"_parent\"><img src=\"https://colab.research.google.com/assets/colab-badge.svg\" alt=\"Open In Colab\"/></a>"
      ]
    },
    {
      "cell_type": "code",
      "metadata": {
        "colab": {
          "base_uri": "https://localhost:8080/",
          "height": 195
        },
        "id": "hpJF3IfFPadd",
        "outputId": "346cb2d5-8632-484f-834d-d5a3493484fb"
      },
      "source": [
        "import pandas as pd\r\n",
        "\r\n",
        "dv=pd.read_excel('https://md-datasets-public-files-prod.s3.eu-west-1.amazonaws.com/a9ab6bb3-2fa3-4a9d-8c28-193bffdc088e')\r\n",
        "dv.head()"
      ],
      "execution_count": null,
      "outputs": [
        {
          "output_type": "execute_result",
          "data": {
            "text/html": [
              "<div>\n",
              "<style scoped>\n",
              "    .dataframe tbody tr th:only-of-type {\n",
              "        vertical-align: middle;\n",
              "    }\n",
              "\n",
              "    .dataframe tbody tr th {\n",
              "        vertical-align: top;\n",
              "    }\n",
              "\n",
              "    .dataframe thead th {\n",
              "        text-align: right;\n",
              "    }\n",
              "</style>\n",
              "<table border=\"1\" class=\"dataframe\">\n",
              "  <thead>\n",
              "    <tr style=\"text-align: right;\">\n",
              "      <th></th>\n",
              "      <th>Date</th>\n",
              "      <th>Time</th>\n",
              "      <th>Load (kW)</th>\n",
              "    </tr>\n",
              "  </thead>\n",
              "  <tbody>\n",
              "    <tr>\n",
              "      <th>0</th>\n",
              "      <td>01.09.2018</td>\n",
              "      <td>00:00:00</td>\n",
              "      <td>5551.82208</td>\n",
              "    </tr>\n",
              "    <tr>\n",
              "      <th>1</th>\n",
              "      <td>NaN</td>\n",
              "      <td>01:00:00</td>\n",
              "      <td>4983.17184</td>\n",
              "    </tr>\n",
              "    <tr>\n",
              "      <th>2</th>\n",
              "      <td>NaN</td>\n",
              "      <td>02:00:00</td>\n",
              "      <td>4888.39680</td>\n",
              "    </tr>\n",
              "    <tr>\n",
              "      <th>3</th>\n",
              "      <td>NaN</td>\n",
              "      <td>03:00:00</td>\n",
              "      <td>5072.95872</td>\n",
              "    </tr>\n",
              "    <tr>\n",
              "      <th>4</th>\n",
              "      <td>NaN</td>\n",
              "      <td>04:00:00</td>\n",
              "      <td>5196.25980</td>\n",
              "    </tr>\n",
              "  </tbody>\n",
              "</table>\n",
              "</div>"
            ],
            "text/plain": [
              "         Date      Time   Load (kW)\n",
              "0  01.09.2018  00:00:00  5551.82208\n",
              "1         NaN  01:00:00  4983.17184\n",
              "2         NaN  02:00:00  4888.39680\n",
              "3         NaN  03:00:00  5072.95872\n",
              "4         NaN  04:00:00  5196.25980"
            ]
          },
          "metadata": {
            "tags": []
          },
          "execution_count": 3
        }
      ]
    },
    {
      "cell_type": "code",
      "metadata": {
        "colab": {
          "base_uri": "https://localhost:8080/"
        },
        "id": "5AIi1N8rQ_Ln",
        "outputId": "aa1b24f0-fe20-4a06-8c13-ad65eb2769ae"
      },
      "source": [
        "dv.shape"
      ],
      "execution_count": null,
      "outputs": [
        {
          "output_type": "execute_result",
          "data": {
            "text/plain": [
              "(2184, 3)"
            ]
          },
          "metadata": {
            "tags": []
          },
          "execution_count": 4
        }
      ]
    },
    {
      "cell_type": "code",
      "metadata": {
        "colab": {
          "base_uri": "https://localhost:8080/"
        },
        "id": "I8p_aqJ5RH4_",
        "outputId": "44f5fa88-8edb-40de-f3df-3655b98ada58"
      },
      "source": [
        "hour_1 = dv.iloc[0:-1, 2]\r\n",
        "hour_2 = dv.iloc[1:, 2]\r\n",
        "print(hour_1.shape)\r\n",
        "print(hour_2.shape)"
      ],
      "execution_count": null,
      "outputs": [
        {
          "output_type": "stream",
          "text": [
            "(2183,)\n",
            "(2183,)\n"
          ],
          "name": "stdout"
        }
      ]
    },
    {
      "cell_type": "code",
      "metadata": {
        "id": "PwuhHw1zRXuP"
      },
      "source": [
        "#The index of hour_2 series starts from 1, so resetting the index\r\n",
        "hour_2 = hour_2.reset_index()\r\n",
        "hour_2 = hour_2['Load (kW)']"
      ],
      "execution_count": null,
      "outputs": []
    },
    {
      "cell_type": "code",
      "metadata": {
        "colab": {
          "base_uri": "https://localhost:8080/"
        },
        "id": "OMt_4zPkRb1f",
        "outputId": "cb3bdbed-d1f1-49cc-f542-7ed2edb0c343"
      },
      "source": [
        "df = pd.concat([hour_1, hour_2], axis = 1)\r\n",
        "df.shape"
      ],
      "execution_count": null,
      "outputs": [
        {
          "output_type": "execute_result",
          "data": {
            "text/plain": [
              "(2183, 2)"
            ]
          },
          "metadata": {
            "tags": []
          },
          "execution_count": 8
        }
      ]
    },
    {
      "cell_type": "code",
      "metadata": {
        "colab": {
          "base_uri": "https://localhost:8080/"
        },
        "id": "VYXIlTO6ReFX",
        "outputId": "9a82d700-5440-4d3a-ec20-62c99a4f7882"
      },
      "source": [
        "df.columns = ['Hour_1', 'Hour_2']\r\n",
        "df.head"
      ],
      "execution_count": null,
      "outputs": [
        {
          "output_type": "execute_result",
          "data": {
            "text/plain": [
              "<bound method NDFrame.head of           Hour_1      Hour_2\n",
              "0     5551.82208  4983.17184\n",
              "1     4983.17184  4888.39680\n",
              "2     4888.39680  5072.95872\n",
              "3     5072.95872  5196.25980\n",
              "4     5196.25980  5641.29720\n",
              "...          ...         ...\n",
              "2178  5045.52384  4626.51840\n",
              "2179  4626.51840  4567.90752\n",
              "2180  4567.90752  4723.63164\n",
              "2181  4723.63164  5150.27520\n",
              "2182  5150.27520  6938.37468\n",
              "\n",
              "[2183 rows x 2 columns]>"
            ]
          },
          "metadata": {
            "tags": []
          },
          "execution_count": 9
        }
      ]
    },
    {
      "cell_type": "code",
      "metadata": {
        "colab": {
          "base_uri": "https://localhost:8080/",
          "height": 195
        },
        "id": "vl-oChzCRf6v",
        "outputId": "1b41f6cf-b3a0-4f98-810f-b3873edb4044"
      },
      "source": [
        "normalized_df = (df - df.mean()) / df.std()\r\n",
        "normalized_df.head()"
      ],
      "execution_count": null,
      "outputs": [
        {
          "output_type": "execute_result",
          "data": {
            "text/html": [
              "<div>\n",
              "<style scoped>\n",
              "    .dataframe tbody tr th:only-of-type {\n",
              "        vertical-align: middle;\n",
              "    }\n",
              "\n",
              "    .dataframe tbody tr th {\n",
              "        vertical-align: top;\n",
              "    }\n",
              "\n",
              "    .dataframe thead th {\n",
              "        text-align: right;\n",
              "    }\n",
              "</style>\n",
              "<table border=\"1\" class=\"dataframe\">\n",
              "  <thead>\n",
              "    <tr style=\"text-align: right;\">\n",
              "      <th></th>\n",
              "      <th>Hour_1</th>\n",
              "      <th>Hour_2</th>\n",
              "    </tr>\n",
              "  </thead>\n",
              "  <tbody>\n",
              "    <tr>\n",
              "      <th>0</th>\n",
              "      <td>-0.446228</td>\n",
              "      <td>-0.979915</td>\n",
              "    </tr>\n",
              "    <tr>\n",
              "      <th>1</th>\n",
              "      <td>-0.979438</td>\n",
              "      <td>-1.068773</td>\n",
              "    </tr>\n",
              "    <tr>\n",
              "      <th>2</th>\n",
              "      <td>-1.068307</td>\n",
              "      <td>-0.895734</td>\n",
              "    </tr>\n",
              "    <tr>\n",
              "      <th>3</th>\n",
              "      <td>-0.895247</td>\n",
              "      <td>-0.780131</td>\n",
              "    </tr>\n",
              "    <tr>\n",
              "      <th>4</th>\n",
              "      <td>-0.779630</td>\n",
              "      <td>-0.362881</td>\n",
              "    </tr>\n",
              "  </tbody>\n",
              "</table>\n",
              "</div>"
            ],
            "text/plain": [
              "     Hour_1    Hour_2\n",
              "0 -0.446228 -0.979915\n",
              "1 -0.979438 -1.068773\n",
              "2 -1.068307 -0.895734\n",
              "3 -0.895247 -0.780131\n",
              "4 -0.779630 -0.362881"
            ]
          },
          "metadata": {
            "tags": []
          },
          "execution_count": 10
        }
      ]
    },
    {
      "cell_type": "code",
      "metadata": {
        "id": "xDAOXRIqRhu-"
      },
      "source": [
        "from sklearn.model_selection import train_test_split\r\n",
        "x_train, x_test, y_train, y_test = train_test_split(normalized_df.Hour_1, normalized_df.Hour_2, test_size = 0.10, random_state = 42)"
      ],
      "execution_count": null,
      "outputs": []
    },
    {
      "cell_type": "code",
      "metadata": {
        "colab": {
          "base_uri": "https://localhost:8080/"
        },
        "id": "fUdTdjJ6Rjpm",
        "outputId": "6b4babe3-a8ef-4063-d2a8-45ca434af013"
      },
      "source": [
        "m = 1 #Initial value of slope\r\n",
        "c = -1 #Initial value of intercept\r\n",
        "lr = 0.01 #Learning Rate\r\n",
        "delta_m = 1 #Initialising Δm\r\n",
        "delta_c = 1 #Initialising Δc\r\n",
        "v_m = 0\r\n",
        "v_c = 0\r\n",
        "lam = 0.9\r\n",
        "max_iters = 50 #Maximum number of iterations  \r\n",
        "iters_count = 0 #Counting Iterations\r\n",
        "\r\n",
        "\r\n",
        "def deriv(m_f, c_f, x, y, v1, v2):\r\n",
        "  global lam\r\n",
        "  m_deriv = -1 * (y - (m_f - lam * v1) * x - c_f + lam * v2) * x\r\n",
        "  c_deriv = -1 * (y - (m_f - lam * v1) * x - c_f + lam * v2)\r\n",
        "  return m_deriv, c_deriv  \r\n",
        "\r\n",
        "\r\n",
        "while iters_count < max_iters:\r\n",
        "  for i in range(x_train.shape[0]):\r\n",
        "    delta_m, delta_c = deriv(m, c, x_train.iloc[i], y_train.iloc[i], v_m, v_c)\r\n",
        "    v_m = lam * v_m - lr * delta_m\r\n",
        "    v_c = lam * v_c - lr * delta_c\r\n",
        "    m += v_m\r\n",
        "    c += v_c\r\n",
        "  iters_count += 1\r\n",
        "  print(f\"Iteration: {iters_count}\\tValue of m: {m}, \\tValue of c: {c}\")\r\n",
        "print(f\"\\nThe local minima occurs at: {m}, {c}\")"
      ],
      "execution_count": null,
      "outputs": [
        {
          "output_type": "stream",
          "text": [
            "Iteration: 1\tValue of m: 0.8497957222095366, \tValue of c: -0.15662392198536862\n",
            "Iteration: 2\tValue of m: 0.8497957222095366, \tValue of c: -0.15662392198536862\n",
            "Iteration: 3\tValue of m: 0.8497957222095366, \tValue of c: -0.15662392198536862\n",
            "Iteration: 4\tValue of m: 0.8497957222095366, \tValue of c: -0.15662392198536862\n",
            "Iteration: 5\tValue of m: 0.8497957222095366, \tValue of c: -0.15662392198536862\n",
            "Iteration: 6\tValue of m: 0.8497957222095366, \tValue of c: -0.15662392198536862\n",
            "Iteration: 7\tValue of m: 0.8497957222095366, \tValue of c: -0.15662392198536862\n",
            "Iteration: 8\tValue of m: 0.8497957222095366, \tValue of c: -0.15662392198536862\n",
            "Iteration: 9\tValue of m: 0.8497957222095366, \tValue of c: -0.15662392198536862\n",
            "Iteration: 10\tValue of m: 0.8497957222095366, \tValue of c: -0.15662392198536862\n",
            "Iteration: 11\tValue of m: 0.8497957222095366, \tValue of c: -0.15662392198536862\n",
            "Iteration: 12\tValue of m: 0.8497957222095366, \tValue of c: -0.15662392198536862\n",
            "Iteration: 13\tValue of m: 0.8497957222095366, \tValue of c: -0.15662392198536862\n",
            "Iteration: 14\tValue of m: 0.8497957222095366, \tValue of c: -0.15662392198536862\n",
            "Iteration: 15\tValue of m: 0.8497957222095366, \tValue of c: -0.15662392198536862\n",
            "Iteration: 16\tValue of m: 0.8497957222095366, \tValue of c: -0.15662392198536862\n",
            "Iteration: 17\tValue of m: 0.8497957222095366, \tValue of c: -0.15662392198536862\n",
            "Iteration: 18\tValue of m: 0.8497957222095366, \tValue of c: -0.15662392198536862\n",
            "Iteration: 19\tValue of m: 0.8497957222095366, \tValue of c: -0.15662392198536862\n",
            "Iteration: 20\tValue of m: 0.8497957222095366, \tValue of c: -0.15662392198536862\n",
            "Iteration: 21\tValue of m: 0.8497957222095366, \tValue of c: -0.15662392198536862\n",
            "Iteration: 22\tValue of m: 0.8497957222095366, \tValue of c: -0.15662392198536862\n",
            "Iteration: 23\tValue of m: 0.8497957222095366, \tValue of c: -0.15662392198536862\n",
            "Iteration: 24\tValue of m: 0.8497957222095366, \tValue of c: -0.15662392198536862\n",
            "Iteration: 25\tValue of m: 0.8497957222095366, \tValue of c: -0.15662392198536862\n",
            "Iteration: 26\tValue of m: 0.8497957222095366, \tValue of c: -0.15662392198536862\n",
            "Iteration: 27\tValue of m: 0.8497957222095366, \tValue of c: -0.15662392198536862\n",
            "Iteration: 28\tValue of m: 0.8497957222095366, \tValue of c: -0.15662392198536862\n",
            "Iteration: 29\tValue of m: 0.8497957222095366, \tValue of c: -0.15662392198536862\n",
            "Iteration: 30\tValue of m: 0.8497957222095366, \tValue of c: -0.15662392198536862\n",
            "Iteration: 31\tValue of m: 0.8497957222095366, \tValue of c: -0.15662392198536862\n",
            "Iteration: 32\tValue of m: 0.8497957222095366, \tValue of c: -0.15662392198536862\n",
            "Iteration: 33\tValue of m: 0.8497957222095366, \tValue of c: -0.15662392198536862\n",
            "Iteration: 34\tValue of m: 0.8497957222095366, \tValue of c: -0.15662392198536862\n",
            "Iteration: 35\tValue of m: 0.8497957222095366, \tValue of c: -0.15662392198536862\n",
            "Iteration: 36\tValue of m: 0.8497957222095366, \tValue of c: -0.15662392198536862\n",
            "Iteration: 37\tValue of m: 0.8497957222095366, \tValue of c: -0.15662392198536862\n",
            "Iteration: 38\tValue of m: 0.8497957222095366, \tValue of c: -0.15662392198536862\n",
            "Iteration: 39\tValue of m: 0.8497957222095366, \tValue of c: -0.15662392198536862\n",
            "Iteration: 40\tValue of m: 0.8497957222095366, \tValue of c: -0.15662392198536862\n",
            "Iteration: 41\tValue of m: 0.8497957222095366, \tValue of c: -0.15662392198536862\n",
            "Iteration: 42\tValue of m: 0.8497957222095366, \tValue of c: -0.15662392198536862\n",
            "Iteration: 43\tValue of m: 0.8497957222095366, \tValue of c: -0.15662392198536862\n",
            "Iteration: 44\tValue of m: 0.8497957222095366, \tValue of c: -0.15662392198536862\n",
            "Iteration: 45\tValue of m: 0.8497957222095366, \tValue of c: -0.15662392198536862\n",
            "Iteration: 46\tValue of m: 0.8497957222095366, \tValue of c: -0.15662392198536862\n",
            "Iteration: 47\tValue of m: 0.8497957222095366, \tValue of c: -0.15662392198536862\n",
            "Iteration: 48\tValue of m: 0.8497957222095366, \tValue of c: -0.15662392198536862\n",
            "Iteration: 49\tValue of m: 0.8497957222095366, \tValue of c: -0.15662392198536862\n",
            "Iteration: 50\tValue of m: 0.8497957222095366, \tValue of c: -0.15662392198536862\n",
            "\n",
            "The local minima occurs at: 0.8497957222095366, -0.15662392198536862\n"
          ],
          "name": "stdout"
        }
      ]
    },
    {
      "cell_type": "code",
      "metadata": {
        "id": "OLbS2g3ERmV-"
      },
      "source": [
        "import numpy as np\r\n",
        "\r\n",
        "x_train = np.array(x_train)\r\n",
        "y_train = np.array(y_train)\r\n",
        "x_test = np.array(x_test)\r\n",
        "y_test = np.array(y_test)\r\n",
        "\r\n",
        "y_pred_train = []\r\n",
        "for i in x_train:\r\n",
        "  y_p_tr = (m * i) + c\r\n",
        "  y_pred_train.append(y_p_tr)\r\n",
        "y_pred_train = np.array(y_pred_train)\r\n",
        "\r\n",
        "y_pred_test = []\r\n",
        "for i in x_test:\r\n",
        "  y_p_te = (m * i) + c\r\n",
        "  y_pred_test.append(y_p_te)\r\n",
        "y_pred_test = np.array(y_pred_test)"
      ],
      "execution_count": null,
      "outputs": []
    },
    {
      "cell_type": "code",
      "metadata": {
        "colab": {
          "base_uri": "https://localhost:8080/"
        },
        "id": "dtJKv8UQR1hv",
        "outputId": "9c85d0ed-367e-42ce-d227-fe120776d6ff"
      },
      "source": [
        "import math\r\n",
        "from sklearn.metrics import mean_squared_error \r\n",
        "from sklearn.metrics import mean_absolute_error\r\n",
        "\r\n",
        "\r\n",
        "#Training Accuracies\r\n",
        "mse = math.sqrt(mean_squared_error(y_train, y_pred_train)) \r\n",
        "print('Root mean square error', mse) \r\n",
        "mse = (mean_squared_error(y_train, y_pred_train)) \r\n",
        "print('Mean square error', mse) \r\n",
        "mae=mean_absolute_error(y_train, y_pred_train)\r\n",
        "print('Mean absolute error', mae)"
      ],
      "execution_count": null,
      "outputs": [
        {
          "output_type": "stream",
          "text": [
            "Root mean square error 0.651899011077035\n",
            "Mean square error 0.42497232064321616\n",
            "Mean absolute error 0.43781836275406955\n"
          ],
          "name": "stdout"
        }
      ]
    },
    {
      "cell_type": "code",
      "metadata": {
        "colab": {
          "base_uri": "https://localhost:8080/"
        },
        "id": "qZKNVJ5eR3FO",
        "outputId": "05cd3709-aa66-4626-9ca6-5b1cc542a5dc"
      },
      "source": [
        "#Testing Accuracies\r\n",
        "mse = math.sqrt(mean_squared_error(y_test, y_pred_test)) \r\n",
        "print('Root mean square error', mse) \r\n",
        "mse = (mean_squared_error(y_test, y_pred_test)) \r\n",
        "print('Mean square error', mse) \r\n",
        "mae=mean_absolute_error(y_test, y_pred_test)\r\n",
        "print('Mean absolute error', mae)"
      ],
      "execution_count": null,
      "outputs": [
        {
          "output_type": "stream",
          "text": [
            "Root mean square error 0.58744943002155\n",
            "Mean square error 0.345096832832644\n",
            "Mean absolute error 0.4057943073140245\n"
          ],
          "name": "stdout"
        }
      ]
    },
    {
      "cell_type": "code",
      "metadata": {
        "id": "_TmIfYGjR44n"
      },
      "source": [
        "dec_1st = []\r\n",
        "dec_1st.append(df.iloc[-1, 1])\r\n",
        "for hour in range(24):\r\n",
        "  normalised_pred = (dec_1st[-1] - df.mean()) / df.std()\r\n",
        "  pred_load = m * normalised_pred + c\r\n",
        "  pred_load = (pred_load * df.std()) + df.mean()\r\n",
        "  dec_1st.append(pred_load)"
      ],
      "execution_count": null,
      "outputs": []
    },
    {
      "cell_type": "code",
      "metadata": {
        "colab": {
          "base_uri": "https://localhost:8080/"
        },
        "id": "E-rmWYCzSCF_",
        "outputId": "b06ca041-385a-40b5-c74b-1f79bc266927"
      },
      "source": [
        "hour = input(\"Enter an hour(0-23) of 1st December, 2018 to predict the load\")\r\n",
        "print(f\"Predicted Load (kW) at {hour} hours on 1st December, 2018: {dec_1st[1 + int(hour)][0]}\")"
      ],
      "execution_count": null,
      "outputs": [
        {
          "output_type": "stream",
          "text": [
            "Enter an hour(0-23) of 1st December, 2018 to predict the load23\n",
            "Predicted Load (kW) at 23 hours on 1st December, 2018: 4956.352786883817\n"
          ],
          "name": "stdout"
        }
      ]
    },
    {
      "cell_type": "code",
      "metadata": {
        "id": "zuzcD4jBSEI3"
      },
      "source": [
        ""
      ],
      "execution_count": null,
      "outputs": []
    }
  ]
}